{
 "cells": [
  {
   "cell_type": "markdown",
   "metadata": {
    "collapsed": false
   },
   "source": [
    "# CW10: Ordinary Differential Equations\n",
    "\n",
    "### Abby Wheaton, Monica Hiemer, and Royal Cuevas\n",
    "\n",
    "\n",
    "\n"
   ]
  },
  {
   "cell_type": "markdown",
   "metadata": {
    "collapsed": false
   },
   "source": [
    "#### Euler's Method\n",
    "\n",
    "$u_{k+1} = u_k + \\Delta t\\, f[t_k, u_k]$\n",
    "\n",
    "Euler's method computes ODE's by using tangent line approximations. Essentially, a tangent line is created using the initial condition and a step of size $\\Delta t$ is taken along that line to compute the next tangent line. This continues until the entire curve has been approximated. Obviously, a smaller $\\Delta t$ step is going to yield a better approximation of the curve. Also, this method won't yield a very accurate approximation for rapidly changing functions because the tangent lines would change too quickly. This method is best used with a slow-changing function.\n",
    "\n",
    "#### Midpoint Method\n",
    "\n",
    "$u_{k+1} = u_{k-1} + 2\\Delta t\\, f[t_k, u_k]$\n",
    "\n",
    "The midpoint method also computes ODE's using tangent line approximations. However, this method differs from Euler's method in that it computes the tangent line at the midpoint of two points. The tangent line at the midpoint generally gives a more accurate approximation of the curve in that interval. To find $u_1$, one would use Euler's method because $u_{-1}$ does not exist.\n",
    "\n",
    "#### Heun's Method\n",
    "\n",
    "   \n",
    "   $\\tilde{u}_{k+1} = u_k + \\Delta t\\, f[t_k, u_k]$, \n",
    "   \n",
    "   $u_{k+1} = u_k + (\\Delta t/2)(f[t_k, u_k] + f[t_{k+1}, \\tilde{u}_{k+1}])$ \n",
    "  \n",
    "Euler’s method is used as a foundation for Heun’s method. When extremely small steps sizes are used for Euler’s method, over large number of steps error begins to accumulate and the estimate diverges from the actual functional value. Heun;s method addresses this issue by considering the interval spanned by the tangent line as a whole. Heun’s Method considers the tangent lines to the solution curve at both ends of the interval, one which overestimates, and one which underestimates the ideal vertical coordinates. If this slope is passed through the left end point of the interval, the result is evidently too steep to be used as an ideal prediction line and overestimates the ideal point. Therefore, the ideal point lies approximately halfway between the erroneous overestimation and underestimation, the average of the two slopes."
   ]
  },
  {
   "cell_type": "code",
   "execution_count": 0,
   "metadata": {
    "collapsed": false
   },
   "outputs": [
   ],
   "source": [
   ]
  }
 ],
 "metadata": {
  "kernelspec": {
   "display_name": "Python 3 (Anaconda 5)",
   "language": "python",
   "name": "anaconda5"
  },
  "language_info": {
   "codemirror_mode": {
    "name": "ipython",
    "version": 3
   },
   "file_extension": ".py",
   "mimetype": "text/x-python",
   "name": "python",
   "nbconvert_exporter": "python",
   "pygments_lexer": "ipython3",
   "version": "3.6.5"
  }
 },
 "nbformat": 4,
 "nbformat_minor": 0
}